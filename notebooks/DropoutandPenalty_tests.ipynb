{
 "cells": [
  {
   "cell_type": "code",
   "execution_count": 6,
   "metadata": {
    "scrolled": true
   },
   "outputs": [
    {
     "ename": "AssertionError",
     "evalue": "The dropout layer fprop functionality test failedCorrect output is \n\n[ 0.          0.         -3.50177048  6.07633214 -6.78324858  0.\n -0.187541   -0.         -7.86758805  0.         -0.          2.95529583\n  0.          0.         -9.0849618  -0.         -0.         -7.4656981\n -0.         -0.         11.65255299  4.27957571 -0.         -9.46561004\n -0.77438526 -4.33347842  2.25884086  5.98133768  1.50019441  0.\n -0.         -7.90247348  0.         -4.94895731 -0.          2.72687581\n -3.87173691  0.          3.16570682 -0.         -0.          6.68937911\n  4.61461394 -3.69825589  9.92282893  1.86601861  0.          0.\n -0.         -3.40001735  7.18087351 -1.65497676 -4.1375716  -6.54542775\n  5.55003098 -0.         -0.          3.56141691 -0.83635426 -0.\n  0.47351072 -0.          0.96974239 -0.        ]\n\n but returned output is \n\n[ 4.68359185  4.77985947 -3.50177048  0.         -0.          0.\n -0.187541   -2.32278914 -7.86758805  2.98229876 -0.          2.95529583\n  3.31261325  0.         -9.0849618  -4.29537736 -0.         -0.\n -8.87785775 -7.69530425  0.          4.27957571 -0.         -9.46561004\n -0.77438526 -0.          2.25884086  5.98133768  0.          4.18270144\n -0.         -0.          0.         -4.94895731 -0.          0.\n -3.87173691  2.82123505  3.16570682 -3.32748406 -0.          6.68937911\n  4.61461394 -0.          9.92282893  1.86601861  0.74996019  1.27631915\n -0.         -3.40001735  0.         -1.65497676 -4.1375716  -6.54542775\n  0.         -5.7775436  -0.          3.56141691 -0.         -0.35701144\n  0.         -8.55359399  0.         -0.        ]\n\n difference is \n\n[  4.68359185   4.77985947   0.          -6.07633214   6.78324858\n   0.           0.          -2.32278914   0.           2.98229876\n   0.           0.           3.31261325   0.           0.\n  -4.29537736   0.           7.4656981   -8.87785775  -7.69530425\n -11.65255299   0.           0.           0.           0.\n   4.33347842   0.           0.          -1.50019441   4.18270144\n   0.           7.90247348   0.           0.           0.\n  -2.72687581   0.           2.82123505   0.          -3.32748406\n   0.           0.           0.           3.69825589   0.\n   0.           0.74996019   1.27631915   0.           0.\n  -7.18087351   0.           0.           0.          -5.55003098\n  -5.7775436    0.           0.           0.83635426  -0.35701144\n  -0.47351072  -8.55359399  -0.96974239   0.        ]",
     "output_type": "error",
     "traceback": [
      "\u001b[0;31m---------------------------------------------------------------------------\u001b[0m",
      "\u001b[0;31mAssertionError\u001b[0m                            Traceback (most recent call last)",
      "\u001b[1;32m/Users/arthakhouri/Desktop/UoE/Machine Learning Practical/MLPractical-UoE/notebooks/DropoutandPenalty_tests.ipynb Cell 1\u001b[0m line \u001b[0;36m1\n\u001b[1;32m      <a href='vscode-notebook-cell:/Users/arthakhouri/Desktop/UoE/Machine%20Learning%20Practical/MLPractical-UoE/notebooks/DropoutandPenalty_tests.ipynb#W0sZmlsZQ%3D%3D?line=6'>7</a>\u001b[0m \u001b[39mimport\u001b[39;00m \u001b[39mnumpy\u001b[39;00m \u001b[39mas\u001b[39;00m \u001b[39mnp\u001b[39;00m\n\u001b[1;32m      <a href='vscode-notebook-cell:/Users/arthakhouri/Desktop/UoE/Machine%20Learning%20Practical/MLPractical-UoE/notebooks/DropoutandPenalty_tests.ipynb#W0sZmlsZQ%3D%3D?line=8'>9</a>\u001b[0m fprop_test, fprop_output, fprop_correct, \\\n\u001b[1;32m     <a href='vscode-notebook-cell:/Users/arthakhouri/Desktop/UoE/Machine%20Learning%20Practical/MLPractical-UoE/notebooks/DropoutandPenalty_tests.ipynb#W0sZmlsZQ%3D%3D?line=9'>10</a>\u001b[0m bprop_test, bprop_output, bprop_correct \u001b[39m=\u001b[39m test_dropout_layer()\n\u001b[0;32m---> <a href='vscode-notebook-cell:/Users/arthakhouri/Desktop/UoE/Machine%20Learning%20Practical/MLPractical-UoE/notebooks/DropoutandPenalty_tests.ipynb#W0sZmlsZQ%3D%3D?line=11'>12</a>\u001b[0m \u001b[39massert\u001b[39;00m fprop_test \u001b[39m==\u001b[39m \u001b[39m1.0\u001b[39m, (\n\u001b[1;32m     <a href='vscode-notebook-cell:/Users/arthakhouri/Desktop/UoE/Machine%20Learning%20Practical/MLPractical-UoE/notebooks/DropoutandPenalty_tests.ipynb#W0sZmlsZQ%3D%3D?line=12'>13</a>\u001b[0m \u001b[39m'\u001b[39m\u001b[39mThe dropout layer fprop functionality test failed\u001b[39m\u001b[39m'\u001b[39m\n\u001b[1;32m     <a href='vscode-notebook-cell:/Users/arthakhouri/Desktop/UoE/Machine%20Learning%20Practical/MLPractical-UoE/notebooks/DropoutandPenalty_tests.ipynb#W0sZmlsZQ%3D%3D?line=13'>14</a>\u001b[0m \u001b[39m'\u001b[39m\u001b[39mCorrect output is \u001b[39m\u001b[39m\\n\u001b[39;00m\u001b[39m\\n\u001b[39;00m\u001b[39m{0}\u001b[39;00m\u001b[39m\\n\u001b[39;00m\u001b[39m\\n\u001b[39;00m\u001b[39m but returned output is \u001b[39m\u001b[39m\\n\u001b[39;00m\u001b[39m\\n\u001b[39;00m\u001b[39m{1}\u001b[39;00m\u001b[39m\\n\u001b[39;00m\u001b[39m\\n\u001b[39;00m\u001b[39m difference is \u001b[39m\u001b[39m\\n\u001b[39;00m\u001b[39m\\n\u001b[39;00m\u001b[39m{2}\u001b[39;00m\u001b[39m'\u001b[39m\n\u001b[1;32m     <a href='vscode-notebook-cell:/Users/arthakhouri/Desktop/UoE/Machine%20Learning%20Practical/MLPractical-UoE/notebooks/DropoutandPenalty_tests.ipynb#W0sZmlsZQ%3D%3D?line=14'>15</a>\u001b[0m \u001b[39m.\u001b[39mformat(fprop_correct[\u001b[39m49\u001b[39m][\u001b[39m0\u001b[39m][\u001b[39m0\u001b[39m], fprop_output[\u001b[39m49\u001b[39m][\u001b[39m0\u001b[39m][\u001b[39m0\u001b[39m], fprop_output[\u001b[39m49\u001b[39m][\u001b[39m0\u001b[39m][\u001b[39m0\u001b[39m] \u001b[39m-\u001b[39m fprop_correct[\u001b[39m49\u001b[39m][\u001b[39m0\u001b[39m][\u001b[39m0\u001b[39m])\n\u001b[1;32m     <a href='vscode-notebook-cell:/Users/arthakhouri/Desktop/UoE/Machine%20Learning%20Practical/MLPractical-UoE/notebooks/DropoutandPenalty_tests.ipynb#W0sZmlsZQ%3D%3D?line=15'>16</a>\u001b[0m )\n\u001b[1;32m     <a href='vscode-notebook-cell:/Users/arthakhouri/Desktop/UoE/Machine%20Learning%20Practical/MLPractical-UoE/notebooks/DropoutandPenalty_tests.ipynb#W0sZmlsZQ%3D%3D?line=17'>18</a>\u001b[0m \u001b[39mprint\u001b[39m(\u001b[39m\"\u001b[39m\u001b[39mDropout Layer Fprop Functionality Test Passed\u001b[39m\u001b[39m\"\u001b[39m)\n\u001b[1;32m     <a href='vscode-notebook-cell:/Users/arthakhouri/Desktop/UoE/Machine%20Learning%20Practical/MLPractical-UoE/notebooks/DropoutandPenalty_tests.ipynb#W0sZmlsZQ%3D%3D?line=19'>20</a>\u001b[0m \u001b[39massert\u001b[39;00m bprop_test \u001b[39m==\u001b[39m \u001b[39m1.0\u001b[39m, (\n\u001b[1;32m     <a href='vscode-notebook-cell:/Users/arthakhouri/Desktop/UoE/Machine%20Learning%20Practical/MLPractical-UoE/notebooks/DropoutandPenalty_tests.ipynb#W0sZmlsZQ%3D%3D?line=20'>21</a>\u001b[0m \u001b[39m'\u001b[39m\u001b[39mThe dropout layer bprop functionality test failed\u001b[39m\u001b[39m'\u001b[39m\n\u001b[1;32m     <a href='vscode-notebook-cell:/Users/arthakhouri/Desktop/UoE/Machine%20Learning%20Practical/MLPractical-UoE/notebooks/DropoutandPenalty_tests.ipynb#W0sZmlsZQ%3D%3D?line=21'>22</a>\u001b[0m \u001b[39m'\u001b[39m\u001b[39mCorrect output is \u001b[39m\u001b[39m\\n\u001b[39;00m\u001b[39m\\n\u001b[39;00m\u001b[39m{0}\u001b[39;00m\u001b[39m\\n\u001b[39;00m\u001b[39m\\n\u001b[39;00m\u001b[39m but returned output is \u001b[39m\u001b[39m\\n\u001b[39;00m\u001b[39m\\n\u001b[39;00m\u001b[39m{1}\u001b[39;00m\u001b[39m\\n\u001b[39;00m\u001b[39m\\n\u001b[39;00m\u001b[39m difference is \u001b[39m\u001b[39m\\n\u001b[39;00m\u001b[39m\\n\u001b[39;00m\u001b[39m{2}\u001b[39;00m\u001b[39m'\u001b[39m\n\u001b[1;32m     <a href='vscode-notebook-cell:/Users/arthakhouri/Desktop/UoE/Machine%20Learning%20Practical/MLPractical-UoE/notebooks/DropoutandPenalty_tests.ipynb#W0sZmlsZQ%3D%3D?line=22'>23</a>\u001b[0m \u001b[39m.\u001b[39mformat(bprop_correct, bprop_output, bprop_output\u001b[39m-\u001b[39mbprop_correct)\n\u001b[1;32m     <a href='vscode-notebook-cell:/Users/arthakhouri/Desktop/UoE/Machine%20Learning%20Practical/MLPractical-UoE/notebooks/DropoutandPenalty_tests.ipynb#W0sZmlsZQ%3D%3D?line=23'>24</a>\u001b[0m )\n",
      "\u001b[0;31mAssertionError\u001b[0m: The dropout layer fprop functionality test failedCorrect output is \n\n[ 0.          0.         -3.50177048  6.07633214 -6.78324858  0.\n -0.187541   -0.         -7.86758805  0.         -0.          2.95529583\n  0.          0.         -9.0849618  -0.         -0.         -7.4656981\n -0.         -0.         11.65255299  4.27957571 -0.         -9.46561004\n -0.77438526 -4.33347842  2.25884086  5.98133768  1.50019441  0.\n -0.         -7.90247348  0.         -4.94895731 -0.          2.72687581\n -3.87173691  0.          3.16570682 -0.         -0.          6.68937911\n  4.61461394 -3.69825589  9.92282893  1.86601861  0.          0.\n -0.         -3.40001735  7.18087351 -1.65497676 -4.1375716  -6.54542775\n  5.55003098 -0.         -0.          3.56141691 -0.83635426 -0.\n  0.47351072 -0.          0.96974239 -0.        ]\n\n but returned output is \n\n[ 4.68359185  4.77985947 -3.50177048  0.         -0.          0.\n -0.187541   -2.32278914 -7.86758805  2.98229876 -0.          2.95529583\n  3.31261325  0.         -9.0849618  -4.29537736 -0.         -0.\n -8.87785775 -7.69530425  0.          4.27957571 -0.         -9.46561004\n -0.77438526 -0.          2.25884086  5.98133768  0.          4.18270144\n -0.         -0.          0.         -4.94895731 -0.          0.\n -3.87173691  2.82123505  3.16570682 -3.32748406 -0.          6.68937911\n  4.61461394 -0.          9.92282893  1.86601861  0.74996019  1.27631915\n -0.         -3.40001735  0.         -1.65497676 -4.1375716  -6.54542775\n  0.         -5.7775436  -0.          3.56141691 -0.         -0.35701144\n  0.         -8.55359399  0.         -0.        ]\n\n difference is \n\n[  4.68359185   4.77985947   0.          -6.07633214   6.78324858\n   0.           0.          -2.32278914   0.           2.98229876\n   0.           0.           3.31261325   0.           0.\n  -4.29537736   0.           7.4656981   -8.87785775  -7.69530425\n -11.65255299   0.           0.           0.           0.\n   4.33347842   0.           0.          -1.50019441   4.18270144\n   0.           7.90247348   0.           0.           0.\n  -2.72687581   0.           2.82123505   0.          -3.32748406\n   0.           0.           0.           3.69825589   0.\n   0.           0.74996019   1.27631915   0.           0.\n  -7.18087351   0.           0.           0.          -5.55003098\n  -5.7775436    0.           0.           0.83635426  -0.35701144\n  -0.47351072  -8.55359399  -0.96974239   0.        ]"
     ]
    }
   ],
   "source": [
    "import sys\n",
    "import os\n",
    "os.environ[\"MLP_DATA_DIR\"] = '/Users/arthakhouri/Desktop/UoE/Machine Learning Practical/MLPractical-UoE/data/'\n",
    "sys.path.append('/Users/arthakhouri/Desktop/UoE/Machine Learning Practical/MLPractical-UoE')\n",
    "\n",
    "from mlp.test_methods import test_dropout_layer\n",
    "import numpy as np\n",
    "\n",
    "fprop_test, fprop_output, fprop_correct, \\\n",
    "bprop_test, bprop_output, bprop_correct = test_dropout_layer()\n",
    "\n",
    "assert fprop_test == 1.0, (\n",
    "'The dropout layer fprop functionality test failed'\n",
    "'Correct output is \\n\\n{0}\\n\\n but returned output is \\n\\n{1}\\n\\n difference is \\n\\n{2}'\n",
    ".format(fprop_correct[49][0][0], fprop_output[49][0][0], fprop_output[49][0][0] - fprop_correct[49][0][0])\n",
    ")\n",
    "\n",
    "print(\"Dropout Layer Fprop Functionality Test Passed\")\n",
    "\n",
    "assert bprop_test == 1.0, (\n",
    "'The dropout layer bprop functionality test failed'\n",
    "'Correct output is \\n\\n{0}\\n\\n but returned output is \\n\\n{1}\\n\\n difference is \\n\\n{2}'\n",
    ".format(bprop_correct, bprop_output, bprop_output-bprop_correct)\n",
    ")\n",
    "\n",
    "print(\"Dropout Layer Bprop Test Passed\")"
   ]
  },
  {
   "cell_type": "code",
   "execution_count": null,
   "metadata": {},
   "outputs": [
    {
     "name": "stdout",
     "output_type": "stream",
     "text": [
      "L1 Penalty Call Functionality Test Passed\n",
      "L1 Penalty Grad Function Test Passed\n"
     ]
    }
   ],
   "source": [
    "from mlp.test_methods import test_L1_Penalty\n",
    "\n",
    "\n",
    "call_test, call_output, call_correct, \\\n",
    "grad_test, grad_output, grad_correct = test_L1_Penalty()\n",
    "\n",
    "\n",
    "assert call_test == 1.0, (\n",
    "'The call function for L1 Penalty test failed'\n",
    "'Correct output is \\n\\n{0}\\n\\n but returned output is \\n\\n{1}\\n\\n difference is \\n\\n{2}'\n",
    ".format(call_correct, call_output, call_output-call_correct)\n",
    ")\n",
    "\n",
    "print(\"L1 Penalty Call Functionality Test Passed\")\n",
    "\n",
    "assert grad_test == 1.0, (\n",
    "'The grad function for L1 Penalty test failed'\n",
    "'Correct output is \\n\\n{0}\\n\\n but returned output is \\n\\n{1}\\n\\n difference is \\n\\n{2}'\n",
    ".format(grad_correct, grad_output, grad_output-grad_correct, grad_output/grad_correct)\n",
    ")\n",
    "\n",
    "\n",
    "\n",
    "print(\"L1 Penalty Grad Function Test Passed\")"
   ]
  },
  {
   "cell_type": "code",
   "execution_count": 2,
   "metadata": {},
   "outputs": [
    {
     "name": "stdout",
     "output_type": "stream",
     "text": [
      "L2 Penalty Call Functionality Test Passed\n",
      "L2 Penalty Grad Function Test Passed\n"
     ]
    }
   ],
   "source": [
    "from mlp.test_methods import test_L2_Penalty\n",
    "\n",
    "\n",
    "call_test, call_output, call_correct, \\\n",
    "grad_test, grad_output, grad_correct = test_L2_Penalty()\n",
    "\n",
    "\n",
    "assert call_test == 1.0, (\n",
    "'The call function for L2 Penalty test failed'\n",
    "'Correct output is \\n\\n{0}\\n\\n but returned output is \\n\\n{1}\\n\\n difference is \\n\\n{2}'\n",
    ".format(call_correct, call_output, call_output-call_correct)\n",
    ")\n",
    "\n",
    "print(\"L2 Penalty Call Functionality Test Passed\")\n",
    "\n",
    "assert grad_test == 1.0, (\n",
    "'The grad function for L2 Penalty test failed'\n",
    "'Correct output is \\n\\n{0}\\n\\n but returned output is \\n\\n{1}\\n\\n difference is \\n\\n{2}'\n",
    ".format(grad_correct[0][0][0], grad_output[0][0][0], grad_output[0][0][0]-grad_correct[0][0][0], grad_output/grad_correct)\n",
    ")\n",
    "\n",
    "\n",
    "\n",
    "print(\"L2 Penalty Grad Function Test Passed\")"
   ]
  },
  {
   "cell_type": "code",
   "execution_count": null,
   "metadata": {},
   "outputs": [],
   "source": []
  }
 ],
 "metadata": {
  "kernelspec": {
   "display_name": "Python 3",
   "language": "python",
   "name": "python3"
  },
  "language_info": {
   "codemirror_mode": {
    "name": "ipython",
    "version": 3
   },
   "file_extension": ".py",
   "mimetype": "text/x-python",
   "name": "python",
   "nbconvert_exporter": "python",
   "pygments_lexer": "ipython3",
   "version": "3.11.5"
  }
 },
 "nbformat": 4,
 "nbformat_minor": 1
}
