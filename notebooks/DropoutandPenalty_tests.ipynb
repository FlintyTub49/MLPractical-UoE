{
 "cells": [
  {
   "cell_type": "code",
   "execution_count": 3,
   "metadata": {
    "scrolled": true
   },
   "outputs": [
    {
     "ename": "NotImplementedError",
     "evalue": "",
     "output_type": "error",
     "traceback": [
      "\u001b[0;31m---------------------------------------------------------------------------\u001b[0m",
      "\u001b[0;31mNotImplementedError\u001b[0m                       Traceback (most recent call last)",
      "\u001b[1;32m/Users/arthakhouri/Desktop/UoE/Machine Learning Practical/MLPractical-UoE/notebooks/DropoutandPenalty_tests.ipynb Cell 1\u001b[0m line \u001b[0;36m9\n\u001b[1;32m      <a href='vscode-notebook-cell:/Users/arthakhouri/Desktop/UoE/Machine%20Learning%20Practical/MLPractical-UoE/notebooks/DropoutandPenalty_tests.ipynb#W0sZmlsZQ%3D%3D?line=4'>5</a>\u001b[0m \u001b[39mfrom\u001b[39;00m \u001b[39mmlp\u001b[39;00m\u001b[39m.\u001b[39;00m\u001b[39mtest_methods\u001b[39;00m \u001b[39mimport\u001b[39;00m test_dropout_layer\n\u001b[1;32m      <a href='vscode-notebook-cell:/Users/arthakhouri/Desktop/UoE/Machine%20Learning%20Practical/MLPractical-UoE/notebooks/DropoutandPenalty_tests.ipynb#W0sZmlsZQ%3D%3D?line=5'>6</a>\u001b[0m \u001b[39mimport\u001b[39;00m \u001b[39mnumpy\u001b[39;00m \u001b[39mas\u001b[39;00m \u001b[39mnp\u001b[39;00m\n\u001b[1;32m      <a href='vscode-notebook-cell:/Users/arthakhouri/Desktop/UoE/Machine%20Learning%20Practical/MLPractical-UoE/notebooks/DropoutandPenalty_tests.ipynb#W0sZmlsZQ%3D%3D?line=7'>8</a>\u001b[0m fprop_test, fprop_output, fprop_correct, \\\n\u001b[0;32m----> <a href='vscode-notebook-cell:/Users/arthakhouri/Desktop/UoE/Machine%20Learning%20Practical/MLPractical-UoE/notebooks/DropoutandPenalty_tests.ipynb#W0sZmlsZQ%3D%3D?line=8'>9</a>\u001b[0m bprop_test, bprop_output, bprop_correct \u001b[39m=\u001b[39m test_dropout_layer()\n\u001b[1;32m     <a href='vscode-notebook-cell:/Users/arthakhouri/Desktop/UoE/Machine%20Learning%20Practical/MLPractical-UoE/notebooks/DropoutandPenalty_tests.ipynb#W0sZmlsZQ%3D%3D?line=10'>11</a>\u001b[0m \u001b[39massert\u001b[39;00m fprop_test \u001b[39m==\u001b[39m \u001b[39m1.0\u001b[39m, (\n\u001b[1;32m     <a href='vscode-notebook-cell:/Users/arthakhouri/Desktop/UoE/Machine%20Learning%20Practical/MLPractical-UoE/notebooks/DropoutandPenalty_tests.ipynb#W0sZmlsZQ%3D%3D?line=11'>12</a>\u001b[0m \u001b[39m'\u001b[39m\u001b[39mThe dropout layer fprop functionality test failed\u001b[39m\u001b[39m'\u001b[39m\n\u001b[1;32m     <a href='vscode-notebook-cell:/Users/arthakhouri/Desktop/UoE/Machine%20Learning%20Practical/MLPractical-UoE/notebooks/DropoutandPenalty_tests.ipynb#W0sZmlsZQ%3D%3D?line=12'>13</a>\u001b[0m \u001b[39m'\u001b[39m\u001b[39mCorrect output is \u001b[39m\u001b[39m\\n\u001b[39;00m\u001b[39m\\n\u001b[39;00m\u001b[39m{0}\u001b[39;00m\u001b[39m\\n\u001b[39;00m\u001b[39m\\n\u001b[39;00m\u001b[39m but returned output is \u001b[39m\u001b[39m\\n\u001b[39;00m\u001b[39m\\n\u001b[39;00m\u001b[39m{1}\u001b[39;00m\u001b[39m\\n\u001b[39;00m\u001b[39m\\n\u001b[39;00m\u001b[39m difference is \u001b[39m\u001b[39m\\n\u001b[39;00m\u001b[39m\\n\u001b[39;00m\u001b[39m{2}\u001b[39;00m\u001b[39m'\u001b[39m\n\u001b[1;32m     <a href='vscode-notebook-cell:/Users/arthakhouri/Desktop/UoE/Machine%20Learning%20Practical/MLPractical-UoE/notebooks/DropoutandPenalty_tests.ipynb#W0sZmlsZQ%3D%3D?line=13'>14</a>\u001b[0m \u001b[39m.\u001b[39mformat(fprop_correct, fprop_output, fprop_output\u001b[39m-\u001b[39mfprop_correct)\n\u001b[1;32m     <a href='vscode-notebook-cell:/Users/arthakhouri/Desktop/UoE/Machine%20Learning%20Practical/MLPractical-UoE/notebooks/DropoutandPenalty_tests.ipynb#W0sZmlsZQ%3D%3D?line=14'>15</a>\u001b[0m )\n\u001b[1;32m     <a href='vscode-notebook-cell:/Users/arthakhouri/Desktop/UoE/Machine%20Learning%20Practical/MLPractical-UoE/notebooks/DropoutandPenalty_tests.ipynb#W0sZmlsZQ%3D%3D?line=16'>17</a>\u001b[0m \u001b[39mprint\u001b[39m(\u001b[39m\"\u001b[39m\u001b[39mDropout Layer Fprop Functionality Test Passed\u001b[39m\u001b[39m\"\u001b[39m)\n",
      "File \u001b[0;32m~/Desktop/UoE/Machine Learning Practical/MLPractical-UoE/mlp/test_methods.py:21\u001b[0m, in \u001b[0;36mtest_dropout_layer\u001b[0;34m()\u001b[0m\n\u001b[1;32m     18\u001b[0m     rng \u001b[39m=\u001b[39m np\u001b[39m.\u001b[39mrandom\u001b[39m.\u001b[39mRandomState(\u001b[39m92019\u001b[39m)\n\u001b[1;32m     19\u001b[0m     layer \u001b[39m=\u001b[39m DropoutLayer(rng\u001b[39m=\u001b[39mrng)\n\u001b[0;32m---> 21\u001b[0m     out \u001b[39m=\u001b[39m layer\u001b[39m.\u001b[39;49mfprop(x)\n\u001b[1;32m     23\u001b[0m     grads \u001b[39m=\u001b[39m layer\u001b[39m.\u001b[39mbprop(inputs\u001b[39m=\u001b[39mx, outputs\u001b[39m=\u001b[39mout, grads_wrt_outputs\u001b[39m=\u001b[39mnp\u001b[39m.\u001b[39mones(x\u001b[39m.\u001b[39mshape))\n\u001b[1;32m     25\u001b[0m \u001b[39m#     correct_outputs = correct_outputs['dropout']\u001b[39;00m\n",
      "File \u001b[0;32m~/Desktop/UoE/Machine Learning Practical/MLPractical-UoE/mlp/layers.py:664\u001b[0m, in \u001b[0;36mDropoutLayer.fprop\u001b[0;34m(self, inputs, stochastic)\u001b[0m\n\u001b[1;32m    649\u001b[0m \u001b[39mdef\u001b[39;00m \u001b[39mfprop\u001b[39m(\u001b[39mself\u001b[39m, inputs, stochastic\u001b[39m=\u001b[39m\u001b[39mTrue\u001b[39;00m):\n\u001b[1;32m    650\u001b[0m \u001b[39m    \u001b[39m\u001b[39m\"\"\"Forward propagates activations through the layer transformation.\u001b[39;00m\n\u001b[1;32m    651\u001b[0m \n\u001b[1;32m    652\u001b[0m \u001b[39m    Args:\u001b[39;00m\n\u001b[0;32m   (...)\u001b[0m\n\u001b[1;32m    662\u001b[0m \u001b[39m        outputs: Array of layer outputs of shape (batch_size, output_dim).\u001b[39;00m\n\u001b[1;32m    663\u001b[0m \u001b[39m    \"\"\"\u001b[39;00m\n\u001b[0;32m--> 664\u001b[0m     \u001b[39mraise\u001b[39;00m \u001b[39mNotImplementedError\u001b[39;00m\n",
      "\u001b[0;31mNotImplementedError\u001b[0m: "
     ]
    }
   ],
   "source": [
    "import sys\n",
    "import os\n",
    "os.environ[\"MLP_DATA_DIR\"] = '/Users/arthakhouri/Desktop/UoE/Machine Learning Practical/MLPractical-UoE/data/'\n",
    "sys.path.append('/Users/arthakhouri/Desktop/UoE/Machine Learning Practical/MLPractical-UoE')\n",
    "\n",
    "from mlp.test_methods import test_dropout_layer\n",
    "import numpy as np\n",
    "\n",
    "fprop_test, fprop_output, fprop_correct, \\\n",
    "bprop_test, bprop_output, bprop_correct = test_dropout_layer()\n",
    "\n",
    "assert fprop_test == 1.0, (\n",
    "'The dropout layer fprop functionality test failed'\n",
    "'Correct output is \\n\\n{0}\\n\\n but returned output is \\n\\n{1}\\n\\n difference is \\n\\n{2}'\n",
    ".format(fprop_correct, fprop_output, fprop_output-fprop_correct)\n",
    ")\n",
    "\n",
    "print(\"Dropout Layer Fprop Functionality Test Passed\")\n",
    "\n",
    "assert bprop_test == 1.0, (\n",
    "'The dropout layer bprop functionality test failed'\n",
    "'Correct output is \\n\\n{0}\\n\\n but returned output is \\n\\n{1}\\n\\n difference is \\n\\n{2}'\n",
    ".format(bprop_correct, bprop_output, bprop_output-bprop_correct)\n",
    ")\n",
    "\n",
    "print(\"Dropout Layer Bprop Test Passed\")"
   ]
  },
  {
   "cell_type": "code",
   "execution_count": null,
   "metadata": {},
   "outputs": [],
   "source": [
    "from mlp.test_methods import test_L1_Penalty\n",
    "\n",
    "\n",
    "call_test, call_output, call_correct, \\\n",
    "grad_test, grad_output, grad_correct = test_L1_Penalty()\n",
    "\n",
    "\n",
    "assert call_test == 1.0, (\n",
    "'The call function for L1 Penalty test failed'\n",
    "'Correct output is \\n\\n{0}\\n\\n but returned output is \\n\\n{1}\\n\\n difference is \\n\\n{2}'\n",
    ".format(call_correct, call_output, call_output-call_correct)\n",
    ")\n",
    "\n",
    "print(\"L1 Penalty Call Functionality Test Passed\")\n",
    "\n",
    "assert grad_test == 1.0, (\n",
    "'The grad function for L1 Penalty test failed'\n",
    "'Correct output is \\n\\n{0}\\n\\n but returned output is \\n\\n{1}\\n\\n difference is \\n\\n{2}'\n",
    ".format(grad_correct, grad_output, grad_output-grad_correct, grad_output/grad_correct)\n",
    ")\n",
    "\n",
    "\n",
    "\n",
    "print(\"L1 Penalty Grad Function Test Passed\")"
   ]
  },
  {
   "cell_type": "code",
   "execution_count": null,
   "metadata": {},
   "outputs": [],
   "source": [
    "from mlp.test_methods import test_L2_Penalty\n",
    "\n",
    "\n",
    "call_test, call_output, call_correct, \\\n",
    "grad_test, grad_output, grad_correct = test_L2_Penalty()\n",
    "\n",
    "\n",
    "assert call_test == 1.0, (\n",
    "'The call function for L2 Penalty test failed'\n",
    "'Correct output is \\n\\n{0}\\n\\n but returned output is \\n\\n{1}\\n\\n difference is \\n\\n{2}'\n",
    ".format(call_correct, call_output, call_output-call_correct)\n",
    ")\n",
    "\n",
    "print(\"L2 Penalty Call Functionality Test Passed\")\n",
    "\n",
    "assert grad_test == 1.0, (\n",
    "'The grad function for L2 Penalty test failed'\n",
    "'Correct output is \\n\\n{0}\\n\\n but returned output is \\n\\n{1}\\n\\n difference is \\n\\n{2}'\n",
    ".format(grad_correct, grad_output, grad_output-grad_correct, grad_output/grad_correct)\n",
    ")\n",
    "\n",
    "\n",
    "\n",
    "print(\"L2 Penalty Grad Function Test Passed\")"
   ]
  }
 ],
 "metadata": {
  "kernelspec": {
   "display_name": "Python 3",
   "language": "python",
   "name": "python3"
  },
  "language_info": {
   "codemirror_mode": {
    "name": "ipython",
    "version": 3
   },
   "file_extension": ".py",
   "mimetype": "text/x-python",
   "name": "python",
   "nbconvert_exporter": "python",
   "pygments_lexer": "ipython3",
   "version": "3.11.5"
  }
 },
 "nbformat": 4,
 "nbformat_minor": 1
}
